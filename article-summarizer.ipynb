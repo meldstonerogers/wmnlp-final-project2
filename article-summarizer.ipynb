{
 "cells": [
  {
   "cell_type": "markdown",
   "metadata": {},
   "source": [
    "# Web Mining and Applied NLP (44-620)\n",
    "\n",
    "## Final Project: Article Summarizer\n",
    "\n",
    "### Student Name: Melissa Stone Rogers, [GitHub](https://github.com/meldstonerogers/wmnlp-final-project2)\n",
    "\n",
    "Perform the tasks described in the Markdown cells below.  When you have completed the assignment make sure your code cells have all been run (and have output beneath them) and ensure you have committed and pushed ALL of your changes to your assignment repository.\n",
    "\n",
    "You should bring in code from previous assignments to help you answer the questions below.\n",
    "\n",
    "Every question that requires you to write code will have a code cell underneath it; you may either write your entire solution in that cell or write it in a python file (`.py`), then import and run the appropriate code to answer the question."
   ]
  },
  {
   "cell_type": "code",
   "execution_count": 29,
   "metadata": {},
   "outputs": [
    {
     "name": "stdout",
     "output_type": "stream",
     "text": [
      "Package            Version\n",
      "------------------ ------------\n",
      "annotated-types    0.7.0\n",
      "appnope            0.1.4\n",
      "asttokens          3.0.0\n",
      "beautifulsoup4     4.12.3\n",
      "blis               1.0.1\n",
      "catalogue          2.0.10\n",
      "certifi            2024.8.30\n",
      "charset-normalizer 3.4.0\n",
      "click              8.1.7\n",
      "cloudpathlib       0.20.0\n",
      "comm               0.2.2\n",
      "confection         0.1.5\n",
      "contourpy          1.3.1\n",
      "cycler             0.12.1\n",
      "cymem              2.0.10\n",
      "debugpy            1.8.9\n",
      "decorator          5.1.1\n",
      "en_core_web_sm     3.8.0\n",
      "exceptiongroup     1.2.2\n",
      "executing          2.1.0\n",
      "fonttools          4.55.0\n",
      "html5lib           1.1\n",
      "idna               3.10\n",
      "ipykernel          6.29.5\n",
      "ipython            8.30.0\n",
      "jedi               0.19.2\n",
      "Jinja2             3.1.4\n",
      "joblib             1.4.2\n",
      "jupyter_client     8.6.3\n",
      "jupyter_core       5.7.2\n",
      "kiwisolver         1.4.7\n",
      "langcodes          3.5.0\n",
      "language_data      1.3.0\n",
      "marisa-trie        1.2.1\n",
      "markdown-it-py     3.0.0\n",
      "MarkupSafe         3.0.2\n",
      "matplotlib         3.9.3\n",
      "matplotlib-inline  0.1.7\n",
      "mdurl              0.1.2\n",
      "murmurhash         1.0.11\n",
      "nest-asyncio       1.6.0\n",
      "nltk               3.9.1\n",
      "numpy              2.0.2\n",
      "packaging          24.2\n",
      "parso              0.8.4\n",
      "pexpect            4.9.0\n",
      "pillow             11.0.0\n",
      "pip                24.3.1\n",
      "platformdirs       4.3.6\n",
      "preshed            3.0.9\n",
      "prompt_toolkit     3.0.48\n",
      "psutil             6.1.0\n",
      "ptyprocess         0.7.0\n",
      "pure_eval          0.2.3\n",
      "pydantic           2.10.2\n",
      "pydantic_core      2.27.1\n",
      "Pygments           2.18.0\n",
      "pyparsing          3.2.0\n",
      "python-dateutil    2.9.0.post0\n",
      "pyzmq              26.2.0\n",
      "regex              2024.11.6\n",
      "requests           2.32.3\n",
      "rich               13.9.4\n",
      "setuptools         74.1.2\n",
      "shellingham        1.5.4\n",
      "six                1.16.0\n",
      "smart-open         7.0.5\n",
      "soupsieve          2.6\n",
      "spacy              3.8.2\n",
      "spacy-legacy       3.0.12\n",
      "spacy-loggers      1.0.5\n",
      "spacytextblob      5.0.0\n",
      "srsly              2.4.8\n",
      "stack-data         0.6.3\n",
      "textblob           0.18.0.post0\n",
      "thinc              8.3.2\n",
      "tornado            6.4.2\n",
      "tqdm               4.67.1\n",
      "traitlets          5.14.3\n",
      "typer              0.14.0\n",
      "typing_extensions  4.12.2\n",
      "urllib3            2.2.3\n",
      "wasabi             1.1.3\n",
      "wcwidth            0.2.13\n",
      "weasel             0.4.1\n",
      "webencodings       0.5.1\n",
      "wrapt              1.17.0\n",
      "All prereqs installed.\n"
     ]
    }
   ],
   "source": [
    "#import dependenceis \n",
    "from collections import Counter\n",
    "import pickle\n",
    "import requests\n",
    "import spacy\n",
    "from textblob import TextBlob\n",
    "from bs4 import BeautifulSoup\n",
    "import matplotlib.pyplot as plt\n",
    "from matplotlib.collections import PolyCollection\n",
    "import numpy as np\n",
    "\n",
    "\n",
    "!pip list\n",
    "\n",
    "print('All prereqs installed.')"
   ]
  },
  {
   "cell_type": "markdown",
   "metadata": {},
   "source": [
    "## Question 1\n",
    "1. Find on the internet an article or blog post about a topic that interests you and you are able to get the text for using the technologies we have applied in the course.  Get the html for the article and store it in a file (which you must submit with your project)"
   ]
  },
  {
   "cell_type": "code",
   "execution_count": 30,
   "metadata": {},
   "outputs": [
    {
     "name": "stdout",
     "output_type": "stream",
     "text": [
      "HTML saved to ozbook_html.pkl.\n"
     ]
    }
   ],
   "source": [
    "# get article\n",
    "ozbook_html = requests.get('https://www.gutenberg.org/cache/epub/43936/pg43936-images.html')\n",
    "\n",
    "#parse HTML content with bs4\n",
    "parser = 'html5lib'\n",
    "\n",
    "soup = BeautifulSoup(ozbook_html.content, parser)\n",
    "# Uncomment next lines to explore full page contents; it's long so when done, recomment\n",
    "#print(soup)\n",
    "#print(soup.prettify())\n",
    "\n",
    "# BeautifulSoup objects don't pickle well, so it's appropriate and polite to web developers to cache the text of the web page, or just dump it to an html file you can read in later as a regular file\n",
    "with open('ozbook_html.pkl', 'wb') as f:\n",
    "    pickle.dump(soup, f)\n",
    "    print(\"HTML saved to ozbook_html.pkl.\")"
   ]
  },
  {
   "cell_type": "markdown",
   "metadata": {},
   "source": [
    "## Question 2\n",
    "2. Read in your article's html source from the file you created in question 1 and do sentiment analysis on the article/post's text (use `.get_text()`).  Print the polarity score with an appropriate label.  Additionally print the number of sentences in the original article (with an appropriate label)"
   ]
  },
  {
   "cell_type": "code",
   "execution_count": 33,
   "metadata": {},
   "outputs": [
    {
     "name": "stdout",
     "output_type": "stream",
     "text": [
      "The Wonderful Wizard of Oz\n",
      "Polarity Score: 0.12235099295112278\n",
      "Number of Sentences in book: 1963\n"
     ]
    }
   ],
   "source": [
    "# read in HTML content form pkl file\n",
    "with open('ozbook_html.pkl', 'rb') as f:\n",
    "    ozbook_html = pickle.load(f)\n",
    "\n",
    "# Print the body of the HTML to find book text section\n",
    "#print(soup.body.prettify())\n",
    "\n",
    "# Find the main content div\n",
    "ozbook_html = soup.find('div', class_='main')\n",
    "\n",
    "# Check if the div is found\n",
    "#if ozbook_html:\n",
    "    #print(ozbook_html.get_text())\n",
    "#else:\n",
    "    #print(\"The desired element was not found.\")\n",
    "\n",
    "# load article text into trained spacy pipline\n",
    "nlp = spacy.load('en_core_web_sm')\n",
    "doc = nlp(ozbook_html.get_text())\n",
    "blob = TextBlob(doc.text)\n",
    "\n",
    "# sentiment analysis\n",
    "polarity = blob.sentiment.polarity\n",
    "print(f\"The Wonderful Wizard of Oz\\nPolarity Score:\", polarity)\n",
    "\n",
    "# Count every sentence in book \n",
    "sentence_count = len(list(doc.sents))\n",
    "print(f\"Number of Sentences in book:\", sentence_count)\n",
    "\n"
   ]
  },
  {
   "cell_type": "markdown",
   "metadata": {},
   "source": [
    "## Question 3\n",
    "3. Load the article text into a trained `spaCy` pipeline, and determine the 5 most frequent tokens (converted to lower case).  Print the common tokens with an appropriate label.  Additionally, print the tokens their frequencies (with appropriate labels)"
   ]
  },
  {
   "cell_type": "code",
   "execution_count": 34,
   "metadata": {},
   "outputs": [
    {
     "name": "stdout",
     "output_type": "stream",
     "text": [
      "Top 5 Most Frequent Tokens:\n",
      "Token: 'dorothy', Frequency: 367\n",
      "Token: 'said', Frequency: 335\n",
      "Token: 'scarecrow', Frequency: 229\n",
      "Token: 'woodman', Frequency: 182\n",
      "Token: 'lion', Frequency: 179\n"
     ]
    }
   ],
   "source": [
    "# determine 5 most frequent tokens, converted to lower case, remove punct, stopwords, whitespace\n",
    "def we_care_about(token):\n",
    "    return not (token.is_space or token.is_punct or token.is_stop)\n",
    "\n",
    "interesting_tokens = [token for token in doc if we_care_about(token)]\n",
    "word_freq = Counter(map(lambda token: str(token).lower(), interesting_tokens))\n",
    "mostFreqtokens = word_freq.most_common(5)\n",
    "\n",
    "# print common tokens and frequencies with appropriate label\n",
    "print(\"Top 5 Most Frequent Tokens:\")\n",
    "for token, freq in mostFreqtokens:\n",
    "    print(f\"Token: '{token}', Frequency: {freq}\")"
   ]
  },
  {
   "cell_type": "markdown",
   "metadata": {},
   "source": [
    "## Question 4\n",
    "4. Load the article text into a trained `spaCy` pipeline, and determine the 5 most frequent lemmas (converted to lower case).  Print the common lemmas with an appropriate label.  Additionally, print the lemmas with their frequencies (with appropriate labels)."
   ]
  },
  {
   "cell_type": "code",
   "execution_count": 35,
   "metadata": {},
   "outputs": [
    {
     "name": "stdout",
     "output_type": "stream",
     "text": [
      "Top 5 Most Frequent Lemmas:\n",
      "Lemma: 'dorothy', Frequency: 367\n",
      "Lemma: 'say', Frequency: 343\n",
      "Lemma: 'scarecrow', Frequency: 231\n",
      "Lemma: 'woodman', Frequency: 182\n",
      "Lemma: 'lion', Frequency: 182\n"
     ]
    }
   ],
   "source": [
    "# determine 5 most frequent lemmas converted to lower case\n",
    "interesting_lemmas = [token.lemma_.lower() for token in doc if we_care_about(token)]\n",
    "lemma_freq = Counter(interesting_lemmas)\n",
    "mostFreqlemmas = lemma_freq.most_common(5)\n",
    "\n",
    "# print with appropriate lemmas\n",
    "print(\"Top 5 Most Frequent Lemmas:\")\n",
    "for lemma, freq in mostFreqlemmas:\n",
    "    print(f\"Lemma: '{lemma}', Frequency: {freq}\")"
   ]
  },
  {
   "cell_type": "markdown",
   "metadata": {},
   "source": [
    "## Question 5\n",
    "5. Make a list containing the scores (using tokens) of every sentence in the article, and plot a histogram with appropriate titles and axis labels of the scores. From your histogram, what seems to be the most common range of scores (put the answer in a comment after your code)?"
   ]
  },
  {
   "cell_type": "code",
   "execution_count": 42,
   "metadata": {},
   "outputs": [
    {
     "data": {
      "image/png": "[encoded data removed]",
      "text/plain": [
       "<Figure size 640x480 with 1 Axes>"
      ]
     },
     "metadata": {},
     "output_type": "display_data"
    }
   ],
   "source": [
    "# Store frequent tokens in a set\n",
    "cool_tokens = set()\n",
    "for token, freq in mostFreqtokens:\n",
    "    cool_tokens.add(token)\n",
    "\n",
    "# Get every sentence in article \n",
    "sentences = list(doc.sents)\n",
    "\n",
    "# Define score_sentence_by_token function\n",
    "def score_sentence_by_token(sentence, interesting_tokens):\n",
    "    # Tokenize the sentence\n",
    "    token_count = sum(1 for token in sentence if token.text.lower() in interesting_tokens)\n",
    "    # Return the ratio of interesting tokens to total tokens\n",
    "    tokens_score = token_count / len(sentence)\n",
    "    return tokens_score\n",
    "\n",
    "# Create list to store scores \n",
    "sentence_scores = []\n",
    "\n",
    "# Loop through each sentence and calculate score\n",
    "for sentence in sentences:\n",
    "    score = score_sentence_by_token(sentence, cool_tokens)\n",
    "    sentence_scores.append(score)\n",
    "\n",
    "\n",
    "# Print the token scores for all sentences\n",
    "# for i, (sentence, score) in enumerate(zip(sentences, sentence_scores), 1):\n",
    "    #print(f\"Sentence {i}: '{sentence.text.strip()}' - Token Score: {score}\")\n",
    "\n",
    "    # Create histogram data\n",
    "counts, bin_edges = np.histogram(sentence_scores, bins=10)\n",
    "\n",
    "# Prepare vertices for the PolyCollection\n",
    "verts = []\n",
    "for i in range(len(bin_edges) - 1):\n",
    "    verts.append([\n",
    "        (bin_edges[i], 0),\n",
    "        (bin_edges[i], counts[i]),\n",
    "        (bin_edges[i + 1], counts[i]),\n",
    "        (bin_edges[i + 1], 0),\n",
    "    ])\n",
    "\n",
    "# Create the gradient colors\n",
    "gradient = np.linspace(0, 1, len(verts))\n",
    "colors = plt.cm.plasma(gradient)\n",
    "\n",
    "# Create a PolyCollection with the gradient colors\n",
    "poly_collection = PolyCollection(verts, facecolors=colors, edgecolor='gray')\n",
    "\n",
    "# Plot the PolyCollection\n",
    "fig, ax = plt.subplots()\n",
    "ax.add_collection(poly_collection)\n",
    "ax.autoscale()\n",
    "plt.title(\"Histogram of Sentence Token Scores\")\n",
    "plt.xlabel(\"Score\")\n",
    "plt.ylabel(\"Frequency\")\n",
    "plt.show()\n",
    "\n",
    "# 0.0 to 0.25 is the most common score range \n"
   ]
  },
  {
   "cell_type": "markdown",
   "metadata": {},
   "source": [
    "## Question 6\n",
    "6. Make a list containing the scores (using lemmas) of every sentence in the article, and plot a histogram with appropriate titles and axis labels of the scores.  From your histogram, what seems to be the most common range of scores (put the answer in a comment after your code)?"
   ]
  },
  {
   "cell_type": "code",
   "execution_count": null,
   "metadata": {},
   "outputs": [
    {
     "data": {
      "image/png": "[encoded data removed]",
      "text/plain": [
       "<Figure size 640x480 with 1 Axes>"
      ]
     },
     "metadata": {},
     "output_type": "display_data"
    }
   ],
   "source": [
    "# Store frequent lemmas in a set\n",
    "cool_lemmas = set()\n",
    "for lemma, freq in mostFreqlemmas:\n",
    "    cool_lemmas.add(lemma)\n",
    "\n",
    "# Get every sentence in article \n",
    "sentences = list(doc.sents)\n",
    "\n",
    "# Define score_sentence_by_lemma function\n",
    "def score_sentence_by_lemma(sentence, interesting_lemmas):\n",
    "    # Extract the raw text of the sentence\n",
    "    sentence_text = sentence.text\n",
    "    # Tokenize the sentence\n",
    "    doc = nlp(sentence_text)\n",
    "    # Count how many interesting lemmas appear in the sentence\n",
    "    lemma_count = sum(1 for token in doc if token.lemma_ in interesting_lemmas)\n",
    "    # Return the ratio of interesting lemmas to total tokens\n",
    "    lemmas_score = lemma_count / len(doc)\n",
    "    return lemmas_score\n",
    "\n",
    "# Create list to store scores \n",
    "sentence_scores = []\n",
    "\n",
    "# Loop through each sentence and calculate score\n",
    "for sentence in sentences:\n",
    "    score = score_sentence_by_lemma(sentence, cool_lemmas)\n",
    "    sentence_scores.append(score)\n",
    "\n",
    "\n",
    "# Print the token scores for all sentences\n",
    "#for i, (sentence, score) in enumerate(zip(sentences, sentence_scores), 1):\n",
    "    #print(f\"Sentence {i}: '{sentence.text.strip()}' - Token Score: {score}\")\n",
    "\n",
    "    # Create histogram data\n",
    "counts, bin_edges = np.histogram(sentence_scores, bins=15)\n",
    "\n",
    "# Prepare vertices for the PolyCollection\n",
    "verts = []\n",
    "for i in range(len(bin_edges) - 1):\n",
    "    verts.append([\n",
    "        (bin_edges[i], 0),\n",
    "        (bin_edges[i], counts[i]),\n",
    "        (bin_edges[i + 1], counts[i]),\n",
    "        (bin_edges[i + 1], 0),\n",
    "    ])\n",
    "\n",
    "# Create the gradient colors\n",
    "gradient = np.linspace(0, 1, len(verts))\n",
    "colors = plt.cm.magma(gradient)\n",
    "\n",
    "# Create a PolyCollection with the gradient colors\n",
    "poly_collection = PolyCollection(verts, facecolors=colors, edgecolor='gray')\n",
    "\n",
    "# Plot the PolyCollection\n",
    "fig, ax = plt.subplots()\n",
    "ax.add_collection(poly_collection)\n",
    "ax.autoscale()\n",
    "plt.title(\"Histogram of Sentence Lemma Scores\")\n",
    "plt.xlabel(\"Score\")\n",
    "plt.ylabel(\"Frequency\")\n",
    "plt.show()\n",
    "\n",
    "# 0.0 to 0.0125 is the most common score range for lemma scores "
   ]
  },
  {
   "cell_type": "markdown",
   "metadata": {},
   "source": [
    "7. Using the histograms from questions 5 and 6, decide a \"cutoff\" score for tokens and lemmas such that fewer than half the sentences would have a score greater than the cutoff score.  Record the scores in this Markdown cell\n",
    "\n",
    "* Cutoff Score (tokens): \n",
    "* Cutoff Score (lemmas):\n",
    "\n",
    "Feel free to change these scores as you generate your summaries.  Ideally, we're shooting for at least 6 sentences for our summary, but don't want more than 10 (these numbers are rough estimates; they depend on the length of your article)."
   ]
  },
  {
   "cell_type": "markdown",
   "metadata": {},
   "source": [
    "8. Create a summary of the article by going through every sentence in the article and adding it to an (initially) empty list if its score (based on tokens) is greater than the cutoff score you identified in question 8.  If your loop variable is named `sent`, you may find it easier to add `sent.text.strip()` to your list of sentences.  Print the summary (I would cleanly generate the summary text by `join`ing the strings in your list together with a space (`' '.join(sentence_list)`)."
   ]
  },
  {
   "cell_type": "code",
   "execution_count": null,
   "metadata": {},
   "outputs": [],
   "source": []
  },
  {
   "cell_type": "markdown",
   "metadata": {},
   "source": [
    "9. Print the polarity score of your summary you generated with the token scores (with an appropriate label). Additionally, print the number of sentences in the summarized article."
   ]
  },
  {
   "cell_type": "code",
   "execution_count": null,
   "metadata": {},
   "outputs": [],
   "source": []
  },
  {
   "cell_type": "markdown",
   "metadata": {},
   "source": [
    "10. Create a summary of the article by going through every sentence in the article and adding it to an (initially) empty list if its score (based on lemmas) is greater than the cutoff score you identified in question 8.  If your loop variable is named `sent`, you may find it easier to add `sent.text.strip()` to your list of sentences.  Print the summary (I would cleanly generate the summary text by `join`ing the strings in your list together with a space (`' '.join(sentence_list)`)."
   ]
  },
  {
   "cell_type": "code",
   "execution_count": null,
   "metadata": {},
   "outputs": [],
   "source": []
  },
  {
   "cell_type": "markdown",
   "metadata": {},
   "source": [
    "11. Print the polarity score of your summary you generated with the lemma scores (with an appropriate label). Additionally, print the number of sentences in the summarized article."
   ]
  },
  {
   "cell_type": "code",
   "execution_count": null,
   "metadata": {},
   "outputs": [],
   "source": []
  },
  {
   "cell_type": "markdown",
   "metadata": {},
   "source": [
    "12.  Compare your polarity scores of your summaries to the polarity scores of the initial article.  Is there a difference?  Why do you think that may or may not be?.  Answer in this Markdown cell.  "
   ]
  },
  {
   "cell_type": "markdown",
   "metadata": {},
   "source": [
    "13. Based on your reading of the original article, which summary do you think is better (if there's a difference).  Why do you think this might be?"
   ]
  }
 ],
 "metadata": {
  "kernelspec": {
   "display_name": "venv",
   "language": "python",
   "name": "python3"
  },
  "language_info": {
   "codemirror_mode": {
    "name": "ipython",
    "version": 3
   },
   "file_extension": ".py",
   "mimetype": "text/x-python",
   "name": "python",
   "nbconvert_exporter": "python",
   "pygments_lexer": "ipython3",
   "version": "3.10.15"
  }
 },
 "nbformat": 4,
 "nbformat_minor": 4
}
